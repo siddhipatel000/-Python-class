{
 "cells": [
  {
   "cell_type": "code",
   "execution_count": 6,
   "id": "6b22a777",
   "metadata": {
    "id": "6b22a777"
   },
   "outputs": [],
   "source": [
    "import numpy as np"
   ]
  },
  {
   "cell_type": "code",
   "execution_count": 7,
   "id": "321e6fd3",
   "metadata": {
    "id": "321e6fd3"
   },
   "outputs": [],
   "source": [
    "a = [2, 5, 7]"
   ]
  },
  {
   "cell_type": "code",
   "execution_count": 8,
   "id": "3f6b4e55",
   "metadata": {
    "id": "3f6b4e55"
   },
   "outputs": [],
   "source": [
    "b = [3, 12, 27]"
   ]
  },
  {
   "cell_type": "code",
   "execution_count": 9,
   "id": "3334079d",
   "metadata": {
    "id": "3334079d",
    "outputId": "07266460-8bf2-4e6f-cb8a-56517d4ff712"
   },
   "outputs": [
    {
     "data": {
      "text/plain": [
       "[2, 5, 7, 3, 12, 27]"
      ]
     },
     "execution_count": 9,
     "metadata": {},
     "output_type": "execute_result"
    }
   ],
   "source": [
    "a+b"
   ]
  },
  {
   "cell_type": "code",
   "execution_count": 10,
   "id": "400abe43",
   "metadata": {
    "id": "400abe43"
   },
   "outputs": [],
   "source": [
    "c = [m+n for m, n in zip(a,b)]"
   ]
  },
  {
   "cell_type": "code",
   "execution_count": 11,
   "id": "1da29ce4",
   "metadata": {
    "id": "1da29ce4",
    "outputId": "9a9e9b31-d115-4ddf-e78c-7186776a585b"
   },
   "outputs": [
    {
     "data": {
      "text/plain": [
       "[5, 17, 34]"
      ]
     },
     "execution_count": 11,
     "metadata": {},
     "output_type": "execute_result"
    }
   ],
   "source": [
    "c"
   ]
  },
  {
   "cell_type": "code",
   "execution_count": 12,
   "id": "5f8525c9",
   "metadata": {
    "id": "5f8525c9",
    "outputId": "2c0b5fbd-6118-4811-b2ba-9ef414807445"
   },
   "outputs": [
    {
     "data": {
      "text/plain": [
       "14"
      ]
     },
     "execution_count": 12,
     "metadata": {},
     "output_type": "execute_result"
    }
   ],
   "source": [
    "sum(a)"
   ]
  },
  {
   "cell_type": "code",
   "execution_count": 13,
   "id": "c3cd1fbc",
   "metadata": {
    "id": "c3cd1fbc"
   },
   "outputs": [],
   "source": [
    "np_a = np.array(a)"
   ]
  },
  {
   "cell_type": "code",
   "execution_count": 14,
   "id": "a598c170",
   "metadata": {
    "id": "a598c170"
   },
   "outputs": [],
   "source": [
    "np_b = np.array(b)"
   ]
  },
  {
   "cell_type": "code",
   "execution_count": 15,
   "id": "f4c2d368",
   "metadata": {
    "id": "f4c2d368",
    "outputId": "ea7ce8f1-9d62-43d4-afff-3abe2882d5f5"
   },
   "outputs": [
    {
     "data": {
      "text/plain": [
       "array([ 5, 17, 34])"
      ]
     },
     "execution_count": 15,
     "metadata": {},
     "output_type": "execute_result"
    }
   ],
   "source": [
    "np_a + np_b"
   ]
  },
  {
   "cell_type": "code",
   "execution_count": 16,
   "id": "53ea6f88",
   "metadata": {
    "id": "53ea6f88"
   },
   "outputs": [],
   "source": [
    "p = np.array([1,2,\"abc\"])"
   ]
  },
  {
   "cell_type": "code",
   "execution_count": 17,
   "id": "7596c7fc",
   "metadata": {
    "id": "7596c7fc",
    "outputId": "67cc1602-a054-4401-bb37-ce33a067ad7c"
   },
   "outputs": [
    {
     "data": {
      "text/plain": [
       "array(['1', '2', 'abc'], dtype='<U11')"
      ]
     },
     "execution_count": 17,
     "metadata": {},
     "output_type": "execute_result"
    }
   ],
   "source": [
    "p"
   ]
  },
  {
   "cell_type": "code",
   "execution_count": 18,
   "id": "2427f9d5",
   "metadata": {
    "id": "2427f9d5",
    "outputId": "de2e09ca-cc9c-4174-c954-97b90eef882a"
   },
   "outputs": [
    {
     "ename": "UFuncTypeError",
     "evalue": "ufunc 'add' did not contain a loop with signature matching types (dtype('<U11'), dtype('int32')) -> None",
     "output_type": "error",
     "traceback": [
      "\u001b[1;31m---------------------------------------------------------------------------\u001b[0m",
      "\u001b[1;31mUFuncTypeError\u001b[0m                            Traceback (most recent call last)",
      "Cell \u001b[1;32mIn[18], line 1\u001b[0m\n\u001b[1;32m----> 1\u001b[0m p\u001b[38;5;241m+\u001b[39m np_a\n",
      "\u001b[1;31mUFuncTypeError\u001b[0m: ufunc 'add' did not contain a loop with signature matching types (dtype('<U11'), dtype('int32')) -> None"
     ]
    }
   ],
   "source": [
    "p+ np_a"
   ]
  },
  {
   "cell_type": "code",
   "execution_count": null,
   "id": "9a9fd1eb",
   "metadata": {
    "id": "9a9fd1eb",
    "outputId": "247b0bc4-fcb1-402d-a5f1-91141e028fad"
   },
   "outputs": [],
   "source": [
    "np_a.max()"
   ]
  },
  {
   "cell_type": "code",
   "execution_count": 19,
   "id": "6b20d0cb",
   "metadata": {
    "id": "6b20d0cb",
    "outputId": "9014c93e-17cf-48c9-9ca6-2a7ac29fc8f5"
   },
   "outputs": [
    {
     "data": {
      "text/plain": [
       "4.666666666666667"
      ]
     },
     "execution_count": 19,
     "metadata": {},
     "output_type": "execute_result"
    }
   ],
   "source": [
    "np_a.mean()"
   ]
  },
  {
   "cell_type": "code",
   "execution_count": 20,
   "id": "cdb4fb5a",
   "metadata": {
    "id": "cdb4fb5a",
    "outputId": "ac559b1b-5c7a-40e8-aa38-09a75825386c"
   },
   "outputs": [
    {
     "data": {
      "text/plain": [
       "array([1., 1., 1.])"
      ]
     },
     "execution_count": 20,
     "metadata": {},
     "output_type": "execute_result"
    }
   ],
   "source": [
    "np.ones(3)"
   ]
  },
  {
   "cell_type": "code",
   "execution_count": 21,
   "id": "2f91e614",
   "metadata": {
    "id": "2f91e614",
    "outputId": "b70ef89c-89e9-4689-f844-c26e4aa3a39a"
   },
   "outputs": [
    {
     "data": {
      "text/plain": [
       "array([0., 0., 0.])"
      ]
     },
     "execution_count": 21,
     "metadata": {},
     "output_type": "execute_result"
    }
   ],
   "source": [
    "np.zeros(3)"
   ]
  },
  {
   "cell_type": "code",
   "execution_count": 22,
   "id": "0f506dcf",
   "metadata": {
    "id": "0f506dcf",
    "outputId": "d761d18c-62f4-4caa-f11f-f83ad9c9864c"
   },
   "outputs": [
    {
     "data": {
      "text/plain": [
       "array([2., 5., 7.])"
      ]
     },
     "execution_count": 22,
     "metadata": {},
     "output_type": "execute_result"
    }
   ],
   "source": [
    "np_a*np.ones(3)"
   ]
  },
  {
   "cell_type": "code",
   "execution_count": 23,
   "id": "bddabd58",
   "metadata": {
    "id": "bddabd58",
    "outputId": "cb2ee7ad-c3b6-423e-cf43-d4a615d1d16a"
   },
   "outputs": [
    {
     "data": {
      "text/plain": [
       "array([ 6, 15, 21])"
      ]
     },
     "execution_count": 23,
     "metadata": {},
     "output_type": "execute_result"
    }
   ],
   "source": [
    "np_a*[3]"
   ]
  },
  {
   "cell_type": "code",
   "execution_count": 24,
   "id": "bcfb05a5",
   "metadata": {
    "id": "bcfb05a5",
    "outputId": "e87e8229-a0be-477b-d793-5050fa5228ad"
   },
   "outputs": [
    {
     "data": {
      "text/plain": [
       "array([ 4.4, 11. , 15.4])"
      ]
     },
     "execution_count": 24,
     "metadata": {},
     "output_type": "execute_result"
    }
   ],
   "source": [
    "np_a*np.array([2.2])"
   ]
  },
  {
   "cell_type": "code",
   "execution_count": 25,
   "id": "5c2dbd16",
   "metadata": {
    "id": "5c2dbd16",
    "outputId": "13020256-8392-4de7-c243-f0a1b7881fb4"
   },
   "outputs": [
    {
     "ename": "ValueError",
     "evalue": "operands could not be broadcast together with shapes (3,) (2,) ",
     "output_type": "error",
     "traceback": [
      "\u001b[1;31m---------------------------------------------------------------------------\u001b[0m",
      "\u001b[1;31mValueError\u001b[0m                                Traceback (most recent call last)",
      "Cell \u001b[1;32mIn[25], line 1\u001b[0m\n\u001b[1;32m----> 1\u001b[0m np_a\u001b[38;5;241m*\u001b[39mnp\u001b[38;5;241m.\u001b[39marray([\u001b[38;5;241m2.2\u001b[39m,\u001b[38;5;241m3.2\u001b[39m])\n",
      "\u001b[1;31mValueError\u001b[0m: operands could not be broadcast together with shapes (3,) (2,) "
     ]
    }
   ],
   "source": [
    "np_a*np.array([2.2,3.2])"
   ]
  },
  {
   "cell_type": "code",
   "execution_count": 26,
   "id": "447c664f",
   "metadata": {
    "id": "447c664f",
    "outputId": "a2bf43bb-0ef4-4653-b9ae-09d0bb13a2b8"
   },
   "outputs": [
    {
     "data": {
      "text/plain": [
       "5"
      ]
     },
     "execution_count": 26,
     "metadata": {},
     "output_type": "execute_result"
    }
   ],
   "source": [
    "np_a[1]"
   ]
  },
  {
   "cell_type": "code",
   "execution_count": 27,
   "id": "121df768",
   "metadata": {
    "id": "121df768",
    "outputId": "6a539f99-6fab-491e-b959-a5fdc07b0a47"
   },
   "outputs": [
    {
     "data": {
      "text/plain": [
       "array([5, 7])"
      ]
     },
     "execution_count": 27,
     "metadata": {},
     "output_type": "execute_result"
    }
   ],
   "source": [
    "np_a[1:]"
   ]
  },
  {
   "cell_type": "code",
   "execution_count": 28,
   "id": "b57d393a",
   "metadata": {
    "id": "b57d393a",
    "outputId": "4611664d-9be7-43af-d0f1-1504af71d21b"
   },
   "outputs": [
    {
     "data": {
      "text/plain": [
       "array([2, 5])"
      ]
     },
     "execution_count": 28,
     "metadata": {},
     "output_type": "execute_result"
    }
   ],
   "source": [
    "np_a[0:2]"
   ]
  },
  {
   "cell_type": "code",
   "execution_count": 29,
   "id": "20a1d70e",
   "metadata": {
    "id": "20a1d70e"
   },
   "outputs": [],
   "source": [
    "np_2d = np.array([[1,2],[3,4]])"
   ]
  },
  {
   "cell_type": "code",
   "execution_count": 30,
   "id": "742f24d3",
   "metadata": {
    "id": "742f24d3",
    "outputId": "20ea9e4d-5bf0-46c0-8208-d0d896a2d40e"
   },
   "outputs": [
    {
     "data": {
      "text/plain": [
       "10"
      ]
     },
     "execution_count": 30,
     "metadata": {},
     "output_type": "execute_result"
    }
   ],
   "source": [
    "np_2d.sum()"
   ]
  },
  {
   "cell_type": "code",
   "execution_count": 31,
   "id": "bc4a4677",
   "metadata": {
    "id": "bc4a4677",
    "outputId": "fa770142-7f86-431c-de32-60e7d4c3da55"
   },
   "outputs": [
    {
     "data": {
      "text/plain": [
       "array([4, 6])"
      ]
     },
     "execution_count": 31,
     "metadata": {},
     "output_type": "execute_result"
    }
   ],
   "source": [
    "np_2d.sum(axis=0)"
   ]
  },
  {
   "cell_type": "code",
   "execution_count": 32,
   "id": "82349735",
   "metadata": {
    "id": "82349735",
    "outputId": "7c2c9363-1a6f-47a2-e78d-2bd03cc71a51"
   },
   "outputs": [
    {
     "data": {
      "text/plain": [
       "array([3, 7])"
      ]
     },
     "execution_count": 32,
     "metadata": {},
     "output_type": "execute_result"
    }
   ],
   "source": [
    "np_2d.sum(axis=1)"
   ]
  },
  {
   "cell_type": "code",
   "execution_count": 33,
   "id": "05b1b764",
   "metadata": {
    "id": "05b1b764",
    "outputId": "938e4217-7571-45ce-f3df-9f6961f0b756"
   },
   "outputs": [
    {
     "ename": "TypeError",
     "evalue": "'numpy.ndarray' object is not callable",
     "output_type": "error",
     "traceback": [
      "\u001b[1;31m---------------------------------------------------------------------------\u001b[0m",
      "\u001b[1;31mTypeError\u001b[0m                                 Traceback (most recent call last)",
      "Cell \u001b[1;32mIn[33], line 1\u001b[0m\n\u001b[1;32m----> 1\u001b[0m np_2d\u001b[38;5;241m.\u001b[39mT()\n",
      "\u001b[1;31mTypeError\u001b[0m: 'numpy.ndarray' object is not callable"
     ]
    }
   ],
   "source": [
    "np_2d.T()"
   ]
  },
  {
   "cell_type": "code",
   "execution_count": 34,
   "id": "c0bfe2d8",
   "metadata": {
    "id": "c0bfe2d8",
    "outputId": "dfccd49a-5703-42f4-8b8c-9e9c83a02699"
   },
   "outputs": [
    {
     "data": {
      "text/plain": [
       "array([[1, 3],\n",
       "       [2, 4]])"
      ]
     },
     "execution_count": 34,
     "metadata": {},
     "output_type": "execute_result"
    }
   ],
   "source": [
    "np_2d.T"
   ]
  },
  {
   "cell_type": "code",
   "execution_count": 35,
   "id": "9815b626",
   "metadata": {
    "id": "9815b626",
    "outputId": "391b3c01-953e-4dfa-b0d5-91c00e39f63c"
   },
   "outputs": [
    {
     "data": {
      "text/plain": [
       "array([[1., 1.],\n",
       "       [1., 1.]])"
      ]
     },
     "execution_count": 35,
     "metadata": {},
     "output_type": "execute_result"
    }
   ],
   "source": [
    "np.ones([2,2])"
   ]
  },
  {
   "cell_type": "code",
   "execution_count": 36,
   "id": "a2a19ba4",
   "metadata": {
    "id": "a2a19ba4",
    "outputId": "ede6e30a-bf0d-4dc2-a192-31a3d2da1939"
   },
   "outputs": [
    {
     "data": {
      "text/plain": [
       "array([[1., 0.],\n",
       "       [0., 1.]])"
      ]
     },
     "execution_count": 36,
     "metadata": {},
     "output_type": "execute_result"
    }
   ],
   "source": [
    "np.eye(2)"
   ]
  },
  {
   "cell_type": "code",
   "execution_count": 37,
   "id": "57213d72",
   "metadata": {
    "id": "57213d72",
    "outputId": "a11f5026-5662-4187-fa74-0820b3dd517e"
   },
   "outputs": [
    {
     "data": {
      "text/plain": [
       "array([[1, 2],\n",
       "       [3, 4]])"
      ]
     },
     "execution_count": 37,
     "metadata": {},
     "output_type": "execute_result"
    }
   ],
   "source": [
    "np_2d"
   ]
  },
  {
   "cell_type": "code",
   "execution_count": 38,
   "id": "54583779",
   "metadata": {
    "id": "54583779",
    "outputId": "ff865f2b-9785-4ae8-db3a-43397dff7597"
   },
   "outputs": [
    {
     "data": {
      "text/plain": [
       "array([[2., 3.],\n",
       "       [4., 5.]])"
      ]
     },
     "execution_count": 38,
     "metadata": {},
     "output_type": "execute_result"
    }
   ],
   "source": [
    "np_2d+np.ones([2,2])"
   ]
  },
  {
   "cell_type": "code",
   "execution_count": 39,
   "id": "87eadd94",
   "metadata": {
    "id": "87eadd94",
    "outputId": "147b5f58-04a0-44f9-f189-32a96e0790a3"
   },
   "outputs": [
    {
     "data": {
      "text/plain": [
       "array([[2., 3.],\n",
       "       [4., 5.]])"
      ]
     },
     "execution_count": 39,
     "metadata": {},
     "output_type": "execute_result"
    }
   ],
   "source": [
    "np_2d+np.ones(2)"
   ]
  },
  {
   "cell_type": "code",
   "execution_count": 40,
   "id": "8d0ca5db",
   "metadata": {
    "id": "8d0ca5db",
    "outputId": "63652a4e-5110-442f-a10a-dc1ac58ebb85"
   },
   "outputs": [
    {
     "data": {
      "text/plain": [
       "array([[2., 3.],\n",
       "       [4., 5.]])"
      ]
     },
     "execution_count": 40,
     "metadata": {},
     "output_type": "execute_result"
    }
   ],
   "source": [
    "np_2d+np.ones([2,1])"
   ]
  },
  {
   "cell_type": "code",
   "execution_count": 41,
   "id": "e19aacc8",
   "metadata": {
    "id": "e19aacc8"
   },
   "outputs": [],
   "source": [
    "np_dotp = np_2d.dot(np.array([[1,10,100],[1000,100,10]]))"
   ]
  },
  {
   "cell_type": "code",
   "execution_count": 42,
   "id": "91cf6331",
   "metadata": {
    "id": "91cf6331",
    "outputId": "5f130abe-8fb7-4b37-d021-4a137674984d"
   },
   "outputs": [
    {
     "data": {
      "text/plain": [
       "array([[2001,  210,  120],\n",
       "       [4003,  430,  340]])"
      ]
     },
     "execution_count": 42,
     "metadata": {},
     "output_type": "execute_result"
    }
   ],
   "source": [
    "np_dotp"
   ]
  },
  {
   "cell_type": "code",
   "execution_count": 43,
   "id": "98ae8064",
   "metadata": {
    "id": "98ae8064",
    "outputId": "b1dc88e8-40df-4ae8-b64b-f54a5be7044d"
   },
   "outputs": [
    {
     "data": {
      "text/plain": [
       "210"
      ]
     },
     "execution_count": 43,
     "metadata": {},
     "output_type": "execute_result"
    }
   ],
   "source": [
    "np_dotp[0,1]"
   ]
  },
  {
   "cell_type": "code",
   "execution_count": 44,
   "id": "cbc1b40b",
   "metadata": {
    "id": "cbc1b40b",
    "outputId": "3108686f-6e3c-4d73-bdb7-3687ab91df48"
   },
   "outputs": [
    {
     "data": {
      "text/plain": [
       "array([[4003,  430,  340]])"
      ]
     },
     "execution_count": 44,
     "metadata": {},
     "output_type": "execute_result"
    }
   ],
   "source": [
    "np_dotp[1:3]"
   ]
  },
  {
   "cell_type": "code",
   "execution_count": 45,
   "id": "45186705",
   "metadata": {
    "id": "45186705",
    "outputId": "30b40b8c-5254-4cef-8ad6-5b9c08e239c9"
   },
   "outputs": [
    {
     "data": {
      "text/plain": [
       "array([2001, 4003])"
      ]
     },
     "execution_count": 45,
     "metadata": {},
     "output_type": "execute_result"
    }
   ],
   "source": [
    "np_dotp[0:2,0]"
   ]
  },
  {
   "cell_type": "code",
   "execution_count": 46,
   "id": "b1c39f6a",
   "metadata": {
    "id": "b1c39f6a"
   },
   "outputs": [],
   "source": [
    "np_rs = np.array([1,2,3,4,5,6])"
   ]
  },
  {
   "cell_type": "code",
   "execution_count": 47,
   "id": "f2feaa22",
   "metadata": {
    "id": "f2feaa22",
    "outputId": "3fe84961-2f76-4a5c-c0f1-7d7bc98eb2f4"
   },
   "outputs": [
    {
     "data": {
      "text/plain": [
       "array([1, 2, 3, 4, 5, 6])"
      ]
     },
     "execution_count": 47,
     "metadata": {},
     "output_type": "execute_result"
    }
   ],
   "source": [
    "np_rs"
   ]
  },
  {
   "cell_type": "code",
   "execution_count": 48,
   "id": "9800a502",
   "metadata": {
    "id": "9800a502",
    "outputId": "a823a610-f979-47ef-925c-2aaccd6dd6bf"
   },
   "outputs": [
    {
     "data": {
      "text/plain": [
       "array([[1, 2, 3],\n",
       "       [4, 5, 6]])"
      ]
     },
     "execution_count": 48,
     "metadata": {},
     "output_type": "execute_result"
    }
   ],
   "source": [
    "np_rs.reshape(2,3)"
   ]
  },
  {
   "cell_type": "code",
   "execution_count": 49,
   "id": "0dae4fcf",
   "metadata": {
    "id": "0dae4fcf",
    "outputId": "7f67c02a-4443-4717-c0da-20f0279b67a0"
   },
   "outputs": [
    {
     "data": {
      "text/plain": [
       "array([[1, 2],\n",
       "       [3, 4],\n",
       "       [5, 6]])"
      ]
     },
     "execution_count": 49,
     "metadata": {},
     "output_type": "execute_result"
    }
   ],
   "source": [
    "np_rs.reshape(3,2)"
   ]
  },
  {
   "cell_type": "code",
   "execution_count": 50,
   "id": "d556ffed",
   "metadata": {
    "id": "d556ffed",
    "outputId": "5c03f0f5-399e-419f-caa2-6dca639229c6"
   },
   "outputs": [
    {
     "data": {
      "text/plain": [
       "array([[1, 2],\n",
       "       [3, 4],\n",
       "       [5, 6]])"
      ]
     },
     "execution_count": 50,
     "metadata": {},
     "output_type": "execute_result"
    }
   ],
   "source": [
    "np_rs.reshape(3,-1)"
   ]
  },
  {
   "cell_type": "code",
   "execution_count": 51,
   "id": "db952d1d",
   "metadata": {
    "id": "db952d1d",
    "outputId": "49daef16-e7c9-43b9-9463-4c6f01839040"
   },
   "outputs": [
    {
     "ename": "ValueError",
     "evalue": "cannot reshape array of size 6 into shape (4,newaxis)",
     "output_type": "error",
     "traceback": [
      "\u001b[1;31m---------------------------------------------------------------------------\u001b[0m",
      "\u001b[1;31mValueError\u001b[0m                                Traceback (most recent call last)",
      "Cell \u001b[1;32mIn[51], line 1\u001b[0m\n\u001b[1;32m----> 1\u001b[0m np_rs\u001b[38;5;241m.\u001b[39mreshape(\u001b[38;5;241m4\u001b[39m,\u001b[38;5;241m-\u001b[39m\u001b[38;5;241m1\u001b[39m)\n",
      "\u001b[1;31mValueError\u001b[0m: cannot reshape array of size 6 into shape (4,newaxis)"
     ]
    }
   ],
   "source": [
    "np_rs.reshape(4,-1)"
   ]
  },
  {
   "cell_type": "code",
   "execution_count": 52,
   "id": "b53c8a9c",
   "metadata": {
    "id": "b53c8a9c",
    "outputId": "63cc69ed-9757-4dec-cd2e-75b20444864b"
   },
   "outputs": [
    {
     "data": {
      "text/plain": [
       "array([[1, 2, 3],\n",
       "       [4, 5, 6]])"
      ]
     },
     "execution_count": 52,
     "metadata": {},
     "output_type": "execute_result"
    }
   ],
   "source": [
    "np_rs.reshape(2,-1)"
   ]
  },
  {
   "cell_type": "code",
   "execution_count": 53,
   "id": "d1d8816c",
   "metadata": {
    "id": "d1d8816c",
    "outputId": "1060d832-8dd4-4edd-e7f3-444fda176221"
   },
   "outputs": [
    {
     "ename": "ValueError",
     "evalue": "cannot reshape array of size 6 into shape (2,2,newaxis)",
     "output_type": "error",
     "traceback": [
      "\u001b[1;31m---------------------------------------------------------------------------\u001b[0m",
      "\u001b[1;31mValueError\u001b[0m                                Traceback (most recent call last)",
      "Cell \u001b[1;32mIn[53], line 1\u001b[0m\n\u001b[1;32m----> 1\u001b[0m np_rs\u001b[38;5;241m.\u001b[39mreshape(\u001b[38;5;241m2\u001b[39m,\u001b[38;5;241m2\u001b[39m,\u001b[38;5;241m-\u001b[39m\u001b[38;5;241m1\u001b[39m)\n",
      "\u001b[1;31mValueError\u001b[0m: cannot reshape array of size 6 into shape (2,2,newaxis)"
     ]
    }
   ],
   "source": [
    "np_rs.reshape(2,2,-1)"
   ]
  },
  {
   "cell_type": "code",
   "execution_count": 54,
   "id": "47ded2fd",
   "metadata": {
    "id": "47ded2fd",
    "outputId": "b3b3e442-53c5-40b8-ec22-cc7d9f1383f2"
   },
   "outputs": [
    {
     "data": {
      "text/plain": [
       "array([[1, 2, 3],\n",
       "       [4, 5, 6]])"
      ]
     },
     "execution_count": 54,
     "metadata": {},
     "output_type": "execute_result"
    }
   ],
   "source": [
    "np_rs.reshape(-1,3)"
   ]
  },
  {
   "cell_type": "code",
   "execution_count": 55,
   "id": "f552302c",
   "metadata": {
    "id": "f552302c",
    "outputId": "ea8e72bd-3a0d-4cd4-d0f6-7439fff51575"
   },
   "outputs": [
    {
     "ename": "TypeError",
     "evalue": "'module' object is not callable",
     "output_type": "error",
     "traceback": [
      "\u001b[1;31m---------------------------------------------------------------------------\u001b[0m",
      "\u001b[1;31mTypeError\u001b[0m                                 Traceback (most recent call last)",
      "Cell \u001b[1;32mIn[55], line 1\u001b[0m\n\u001b[1;32m----> 1\u001b[0m np\u001b[38;5;241m.\u001b[39mrandom(\u001b[38;5;241m2\u001b[39m)\n",
      "\u001b[1;31mTypeError\u001b[0m: 'module' object is not callable"
     ]
    }
   ],
   "source": [
    "np.random(2)"
   ]
  },
  {
   "cell_type": "code",
   "execution_count": 56,
   "id": "41fb9382",
   "metadata": {
    "id": "41fb9382",
    "outputId": "f60eaa15-2e4c-421b-a9ed-1c284a0d9f54"
   },
   "outputs": [
    {
     "data": {
      "text/plain": [
       "array([0.61939634, 0.69540099])"
      ]
     },
     "execution_count": 56,
     "metadata": {},
     "output_type": "execute_result"
    }
   ],
   "source": [
    "np.random.random(2)"
   ]
  },
  {
   "cell_type": "code",
   "execution_count": 57,
   "id": "153b11b5",
   "metadata": {
    "id": "153b11b5",
    "outputId": "a70d3123-ab51-4d66-cfd3-6e8a029dd6c5"
   },
   "outputs": [
    {
     "ename": "ModuleNotFoundError",
     "evalue": "No module named 'np'",
     "output_type": "error",
     "traceback": [
      "\u001b[1;31m---------------------------------------------------------------------------\u001b[0m",
      "\u001b[1;31mModuleNotFoundError\u001b[0m                       Traceback (most recent call last)",
      "Cell \u001b[1;32mIn[57], line 1\u001b[0m\n\u001b[1;32m----> 1\u001b[0m \u001b[38;5;28;01mimport\u001b[39;00m \u001b[38;5;21;01mnp\u001b[39;00m\u001b[38;5;21;01m.\u001b[39;00m\u001b[38;5;21;01mrandom\u001b[39;00m \u001b[38;5;28;01mas\u001b[39;00m \u001b[38;5;21;01mrandom\u001b[39;00m\n",
      "\u001b[1;31mModuleNotFoundError\u001b[0m: No module named 'np'"
     ]
    }
   ],
   "source": [
    "import np.random as random"
   ]
  },
  {
   "cell_type": "code",
   "execution_count": 58,
   "id": "f14c1645",
   "metadata": {
    "id": "f14c1645"
   },
   "outputs": [],
   "source": [
    "import numpy.random as random"
   ]
  },
  {
   "cell_type": "code",
   "execution_count": 59,
   "id": "12b02be0",
   "metadata": {
    "id": "12b02be0",
    "outputId": "22f79377-5b98-4f6a-882f-27d9a8955600"
   },
   "outputs": [
    {
     "ename": "TypeError",
     "evalue": "'module' object is not callable",
     "output_type": "error",
     "traceback": [
      "\u001b[1;31m---------------------------------------------------------------------------\u001b[0m",
      "\u001b[1;31mTypeError\u001b[0m                                 Traceback (most recent call last)",
      "Cell \u001b[1;32mIn[59], line 1\u001b[0m\n\u001b[1;32m----> 1\u001b[0m random(\u001b[38;5;241m2\u001b[39m)\n",
      "\u001b[1;31mTypeError\u001b[0m: 'module' object is not callable"
     ]
    }
   ],
   "source": [
    "random(2)"
   ]
  },
  {
   "cell_type": "code",
   "execution_count": 60,
   "id": "29fd7c12",
   "metadata": {
    "id": "29fd7c12",
    "outputId": "65a39598-33f8-48cb-96f0-799280054ed2"
   },
   "outputs": [
    {
     "data": {
      "text/plain": [
       "array([0.24991335, 0.52922267])"
      ]
     },
     "execution_count": 60,
     "metadata": {},
     "output_type": "execute_result"
    }
   ],
   "source": [
    "random.random(2)"
   ]
  },
  {
   "cell_type": "code",
   "execution_count": 61,
   "id": "50e77f01",
   "metadata": {
    "id": "50e77f01",
    "outputId": "d40674c4-1445-41e6-c39a-d9c666c60588"
   },
   "outputs": [
    {
     "data": {
      "text/plain": [
       "array([[0.30373153, 0.93695255],\n",
       "       [0.65425126, 0.01571063],\n",
       "       [0.84501543, 0.45653796]])"
      ]
     },
     "execution_count": 61,
     "metadata": {},
     "output_type": "execute_result"
    }
   ],
   "source": [
    "random.random([3,2])"
   ]
  },
  {
   "cell_type": "code",
   "execution_count": 62,
   "id": "5be6ad52",
   "metadata": {
    "id": "5be6ad52"
   },
   "outputs": [],
   "source": [
    "import numpy.linalg as la"
   ]
  },
  {
   "cell_type": "code",
   "execution_count": 63,
   "id": "c91badea",
   "metadata": {
    "id": "c91badea",
    "outputId": "9b5b10aa-7015-494e-ba55-28c1e3252845"
   },
   "outputs": [
    {
     "data": {
      "text/plain": [
       "array([[-2. ,  1. ],\n",
       "       [ 1.5, -0.5]])"
      ]
     },
     "execution_count": 63,
     "metadata": {},
     "output_type": "execute_result"
    }
   ],
   "source": [
    "la.inv(np_2d)"
   ]
  },
  {
   "cell_type": "code",
   "execution_count": 64,
   "id": "190d9150",
   "metadata": {
    "id": "190d9150",
    "outputId": "63f59b8d-d9b9-4c20-936e-8ca5c852f224"
   },
   "outputs": [
    {
     "data": {
      "text/plain": [
       "EigResult(eigenvalues=array([-0.37228132,  5.37228132]), eigenvectors=array([[-0.82456484, -0.41597356],\n",
       "       [ 0.56576746, -0.90937671]]))"
      ]
     },
     "execution_count": 64,
     "metadata": {},
     "output_type": "execute_result"
    }
   ],
   "source": [
    "la.eig(np_2d)"
   ]
  },
  {
   "cell_type": "code",
   "execution_count": 65,
   "id": "2e922a01",
   "metadata": {
    "id": "2e922a01",
    "outputId": "1dba3db1-50aa-4a0f-fc3b-e65acf2b1771"
   },
   "outputs": [
    {
     "data": {
      "text/plain": [
       "SVDResult(U=array([[-0.40455358, -0.9145143 ],\n",
       "       [-0.9145143 ,  0.40455358]]), S=array([5.4649857 , 0.36596619]), Vh=array([[-0.57604844, -0.81741556],\n",
       "       [ 0.81741556, -0.57604844]]))"
      ]
     },
     "execution_count": 65,
     "metadata": {},
     "output_type": "execute_result"
    }
   ],
   "source": [
    "la.svd(np_2d)"
   ]
  },
  {
   "cell_type": "code",
   "execution_count": 66,
   "id": "a441edcb",
   "metadata": {
    "id": "a441edcb",
    "outputId": "20d78703-7e57-4254-dab4-f728af516c1f"
   },
   "outputs": [
    {
     "data": {
      "text/plain": [
       "array([[-2. ,  1. ],\n",
       "       [ 1.5, -0.5]])"
      ]
     },
     "execution_count": 66,
     "metadata": {},
     "output_type": "execute_result"
    }
   ],
   "source": [
    "la.pinv(np_2d)"
   ]
  },
  {
   "cell_type": "code",
   "execution_count": 67,
   "id": "0b049bfc",
   "metadata": {
    "id": "0b049bfc",
    "outputId": "abe52690-8d68-4c04-df88-78276dc7996b"
   },
   "outputs": [
    {
     "data": {
      "text/plain": [
       "array([[2.21756304, 2.28333019, 3.10768155],\n",
       "       [3.85151334, 0.62341675, 1.63254487]])"
      ]
     },
     "execution_count": 67,
     "metadata": {},
     "output_type": "execute_result"
    }
   ],
   "source": [
    "random.rand(2,3)*5"
   ]
  },
  {
   "cell_type": "code",
   "execution_count": 68,
   "id": "6c0ec0e3",
   "metadata": {
    "id": "6c0ec0e3",
    "outputId": "130d3f8e-3f81-4245-9f4c-e6360e7a07b8"
   },
   "outputs": [
    {
     "data": {
      "text/plain": [
       "array([[-0.44852725,  1.40975698,  0.68921665],\n",
       "       [ 0.85285963,  0.85186061, -0.03800664]])"
      ]
     },
     "execution_count": 68,
     "metadata": {},
     "output_type": "execute_result"
    }
   ],
   "source": [
    "random.randn(2,3)"
   ]
  },
  {
   "cell_type": "raw",
   "id": "9a427a24",
   "metadata": {
    "id": "9a427a24"
   },
   "source": [
    "random.randint(-2,5,3)"
   ]
  },
  {
   "cell_type": "code",
   "execution_count": 69,
   "id": "2a7e897a",
   "metadata": {
    "id": "2a7e897a",
    "outputId": "7743a521-e8ec-4678-bab1-4d6153842a02"
   },
   "outputs": [
    {
     "data": {
      "text/plain": [
       "array([-1,  1,  1, -2,  0])"
      ]
     },
     "execution_count": 69,
     "metadata": {},
     "output_type": "execute_result"
    }
   ],
   "source": [
    "random.randint(-2,3,5)"
   ]
  },
  {
   "cell_type": "code",
   "execution_count": 70,
   "id": "52b331b2",
   "metadata": {
    "id": "52b331b2"
   },
   "outputs": [],
   "source": [
    "random.shuffle(np_rs)"
   ]
  },
  {
   "cell_type": "code",
   "execution_count": 71,
   "id": "cee749c4",
   "metadata": {
    "id": "cee749c4",
    "outputId": "49156244-ada9-44fb-e788-87168bde3a16"
   },
   "outputs": [
    {
     "data": {
      "text/plain": [
       "array([3, 2, 4, 1, 6, 5])"
      ]
     },
     "execution_count": 71,
     "metadata": {},
     "output_type": "execute_result"
    }
   ],
   "source": [
    "np_rs"
   ]
  },
  {
   "cell_type": "code",
   "execution_count": 72,
   "id": "53d0e965",
   "metadata": {
    "id": "53d0e965",
    "outputId": "940c9874-4eab-4c6b-f9b8-4a5c4fe8df47"
   },
   "outputs": [
    {
     "data": {
      "text/plain": [
       "array([4, 5])"
      ]
     },
     "execution_count": 72,
     "metadata": {},
     "output_type": "execute_result"
    }
   ],
   "source": [
    "random.choice(np_rs, 2)"
   ]
  },
  {
   "cell_type": "code",
   "execution_count": 73,
   "id": "60f3d510",
   "metadata": {
    "id": "60f3d510",
    "outputId": "537cb0d8-34bc-4a66-d390-f9cfe0747270"
   },
   "outputs": [
    {
     "data": {
      "text/plain": [
       "6"
      ]
     },
     "execution_count": 73,
     "metadata": {},
     "output_type": "execute_result"
    }
   ],
   "source": [
    "random.binomial(20,0.3)"
   ]
  },
  {
   "cell_type": "code",
   "execution_count": 74,
   "id": "f581cef6",
   "metadata": {
    "id": "f581cef6",
    "outputId": "43665476-6410-4beb-9397-96c76c80179c"
   },
   "outputs": [
    {
     "data": {
      "text/plain": [
       "array([8, 2, 7, 6, 6, 6, 4])"
      ]
     },
     "execution_count": 74,
     "metadata": {},
     "output_type": "execute_result"
    }
   ],
   "source": [
    "random.binomial(20, 0.3, 7)"
   ]
  },
  {
   "cell_type": "code",
   "execution_count": 75,
   "id": "316e609a",
   "metadata": {
    "id": "316e609a",
    "outputId": "563d3ba0-e4cc-4a6d-fa94-b854b5b6968d"
   },
   "outputs": [
    {
     "data": {
      "text/plain": [
       "array([0.63040658, 0.05184521, 0.2629849 , 0.68567761])"
      ]
     },
     "execution_count": 75,
     "metadata": {},
     "output_type": "execute_result"
    }
   ],
   "source": [
    "random.exponential(0.7,4)"
   ]
  },
  {
   "cell_type": "code",
   "execution_count": 76,
   "id": "c3c3da6e",
   "metadata": {
    "id": "c3c3da6e"
   },
   "outputs": [
    {
     "name": "stderr",
     "output_type": "stream",
     "text": [
      "UsageError: %%time is a cell magic, but the cell body is empty. Did you mean the line magic %time (single %)?\n"
     ]
    }
   ],
   "source": [
    "%%time\n"
   ]
  },
  {
   "cell_type": "code",
   "execution_count": 77,
   "id": "0df740eb",
   "metadata": {
    "id": "0df740eb",
    "outputId": "f4dc0c50-9f74-4972-c3df-b8cd9335c055"
   },
   "outputs": [
    {
     "data": {
      "text/plain": [
       "array([-14.08195994,  -0.74385874,  -7.72795671])"
      ]
     },
     "execution_count": 77,
     "metadata": {},
     "output_type": "execute_result"
    }
   ],
   "source": [
    "random.normal(-5,12,3)"
   ]
  },
  {
   "cell_type": "code",
   "execution_count": 78,
   "id": "ae4df0fe",
   "metadata": {
    "id": "ae4df0fe",
    "outputId": "1ea6617d-6f77-4d1d-a70e-bf7e730f7888"
   },
   "outputs": [
    {
     "data": {
      "text/plain": [
       "array([ 8.49424683, 13.55197041,  1.81429774,  2.32158888, 16.07838025,\n",
       "        0.69180049, -3.95099991])"
      ]
     },
     "execution_count": 78,
     "metadata": {},
     "output_type": "execute_result"
    }
   ],
   "source": [
    "random.logistic(-2,4,7)"
   ]
  },
  {
   "cell_type": "code",
   "execution_count": 79,
   "id": "197bd554",
   "metadata": {
    "id": "197bd554",
    "outputId": "fed84efb-b17b-401e-d8b4-c9c8bacee8df"
   },
   "outputs": [
    {
     "data": {
      "text/plain": [
       "(2, 2)"
      ]
     },
     "execution_count": 79,
     "metadata": {},
     "output_type": "execute_result"
    }
   ],
   "source": [
    "np_2d.shape"
   ]
  },
  {
   "cell_type": "code",
   "execution_count": 80,
   "id": "2f09cee7",
   "metadata": {
    "id": "2f09cee7",
    "outputId": "52c30537-5650-49c2-c402-f1980be004a2"
   },
   "outputs": [
    {
     "data": {
      "text/plain": [
       "dtype('int32')"
      ]
     },
     "execution_count": 80,
     "metadata": {},
     "output_type": "execute_result"
    }
   ],
   "source": [
    "np_2d.dtype"
   ]
  },
  {
   "cell_type": "code",
   "execution_count": 81,
   "id": "68058276",
   "metadata": {
    "id": "68058276",
    "outputId": "3418ab75-d65a-4532-fe1f-9c15a14d0a2b"
   },
   "outputs": [
    {
     "data": {
      "text/plain": [
       "numpy.ndarray"
      ]
     },
     "execution_count": 81,
     "metadata": {},
     "output_type": "execute_result"
    }
   ],
   "source": [
    "type(np_2d)"
   ]
  },
  {
   "cell_type": "code",
   "execution_count": 82,
   "id": "188f8626",
   "metadata": {
    "id": "188f8626",
    "outputId": "38d50e40-65f2-4ef1-c0de-fc2f97e7c710"
   },
   "outputs": [
    {
     "data": {
      "text/plain": [
       "array([[1., 1.],\n",
       "       [1., 1.]])"
      ]
     },
     "execution_count": 82,
     "metadata": {},
     "output_type": "execute_result"
    }
   ],
   "source": [
    "np.vstack(np.ones([2,2]))"
   ]
  },
  {
   "cell_type": "code",
   "execution_count": 83,
   "id": "1c81dfac",
   "metadata": {
    "id": "1c81dfac",
    "outputId": "81327e28-66cd-487c-e3de-4913b99fa5ea"
   },
   "outputs": [
    {
     "data": {
      "text/plain": [
       "array([[1., 2.],\n",
       "       [3., 4.],\n",
       "       [1., 1.],\n",
       "       [1., 1.]])"
      ]
     },
     "execution_count": 83,
     "metadata": {},
     "output_type": "execute_result"
    }
   ],
   "source": [
    "np.vstack((np_2d,np.ones([2,2])))"
   ]
  },
  {
   "cell_type": "code",
   "execution_count": 84,
   "id": "190dfbcf",
   "metadata": {
    "id": "190dfbcf",
    "outputId": "f3d525b5-454c-41af-8b60-02dd11638cb2"
   },
   "outputs": [
    {
     "data": {
      "text/plain": [
       "array([[1., 2., 1., 1.],\n",
       "       [3., 4., 1., 1.]])"
      ]
     },
     "execution_count": 84,
     "metadata": {},
     "output_type": "execute_result"
    }
   ],
   "source": [
    "np.hstack((np_2d,np.ones([2,2])))"
   ]
  },
  {
   "cell_type": "code",
   "execution_count": 85,
   "id": "8cac5e59",
   "metadata": {
    "id": "8cac5e59"
   },
   "outputs": [],
   "source": [
    "N=10000000\n",
    "x=list(range(N))\n",
    "y=list(range(N))\n",
    "z=[]"
   ]
  },
  {
   "cell_type": "code",
   "execution_count": 86,
   "id": "eaf5a569",
   "metadata": {
    "id": "eaf5a569"
   },
   "outputs": [],
   "source": [
    "np_x = np.array(x)\n",
    "np_y = np.array(y)"
   ]
  },
  {
   "cell_type": "code",
   "execution_count": 87,
   "id": "815dcb98",
   "metadata": {
    "id": "815dcb98",
    "outputId": "220c7c41-1d79-4859-9a51-436f86575969"
   },
   "outputs": [
    {
     "name": "stdout",
     "output_type": "stream",
     "text": [
      "CPU times: total: 4.72 s\n",
      "Wall time: 10.8 s\n"
     ]
    }
   ],
   "source": [
    "%%time\n",
    "for i in range(len(x)):\n",
    "    z.append(x[i]+y[i])\n"
   ]
  },
  {
   "cell_type": "code",
   "execution_count": 88,
   "id": "42adb9fa",
   "metadata": {
    "id": "42adb9fa",
    "outputId": "882797eb-a176-49fa-b217-23e628522dc9"
   },
   "outputs": [
    {
     "name": "stdout",
     "output_type": "stream",
     "text": [
      "CPU times: total: 297 ms\n",
      "Wall time: 505 ms\n"
     ]
    }
   ],
   "source": [
    "%%time\n",
    "np_z = np_x+np_y"
   ]
  },
  {
   "cell_type": "code",
   "execution_count": 89,
   "id": "b9396fa1",
   "metadata": {
    "id": "b9396fa1"
   },
   "outputs": [],
   "source": [
    "import pandas as pd\n",
    "import numpy as np"
   ]
  },
  {
   "cell_type": "code",
   "execution_count": 90,
   "id": "0bf92213-546b-4ca3-9e9b-db131b89b7d1",
   "metadata": {
    "id": "0bf92213-546b-4ca3-9e9b-db131b89b7d1"
   },
   "outputs": [],
   "source": [
    "data = pd.read_csv('NumpyExerciseData.csv')"
   ]
  },
  {
   "cell_type": "markdown",
   "id": "e6bfc52e-48b8-4250-bcba-2539989105dc",
   "metadata": {},
   "source": [
    "**Newton Method**"
   ]
  },
  {
   "cell_type": "code",
   "execution_count": 91,
   "id": "16202341-968d-4f42-8c71-2c6aad7ecf7b",
   "metadata": {
    "id": "16202341-968d-4f42-8c71-2c6aad7ecf7b",
    "outputId": "8875ed40-dd75-4079-8858-0154c3d929cf"
   },
   "outputs": [
    {
     "data": {
      "text/html": [
       "<div>\n",
       "<style scoped>\n",
       "    .dataframe tbody tr th:only-of-type {\n",
       "        vertical-align: middle;\n",
       "    }\n",
       "\n",
       "    .dataframe tbody tr th {\n",
       "        vertical-align: top;\n",
       "    }\n",
       "\n",
       "    .dataframe thead th {\n",
       "        text-align: right;\n",
       "    }\n",
       "</style>\n",
       "<table border=\"1\" class=\"dataframe\">\n",
       "  <thead>\n",
       "    <tr style=\"text-align: right;\">\n",
       "      <th></th>\n",
       "      <th>X0</th>\n",
       "      <th>X1</th>\n",
       "      <th>X2</th>\n",
       "      <th>X3</th>\n",
       "      <th>X4</th>\n",
       "      <th>X5</th>\n",
       "      <th>y</th>\n",
       "      <th>Unnamed: 7</th>\n",
       "      <th>Unnamed: 8</th>\n",
       "      <th>Unnamed: 9</th>\n",
       "      <th>Unnamed: 10</th>\n",
       "    </tr>\n",
       "  </thead>\n",
       "  <tbody>\n",
       "    <tr>\n",
       "      <th>0</th>\n",
       "      <td>1</td>\n",
       "      <td>5.768</td>\n",
       "      <td>62.55</td>\n",
       "      <td>0</td>\n",
       "      <td>28</td>\n",
       "      <td>2.6</td>\n",
       "      <td>28</td>\n",
       "      <td>NaN</td>\n",
       "      <td>NaN</td>\n",
       "      <td>NaN</td>\n",
       "      <td>NaN</td>\n",
       "    </tr>\n",
       "    <tr>\n",
       "      <th>1</th>\n",
       "      <td>1</td>\n",
       "      <td>8.949</td>\n",
       "      <td>66.91</td>\n",
       "      <td>0</td>\n",
       "      <td>27</td>\n",
       "      <td>-2.0</td>\n",
       "      <td>46</td>\n",
       "      <td>NaN</td>\n",
       "      <td>NaN</td>\n",
       "      <td>NaN</td>\n",
       "      <td>NaN</td>\n",
       "    </tr>\n",
       "    <tr>\n",
       "      <th>2</th>\n",
       "      <td>1</td>\n",
       "      <td>1.024</td>\n",
       "      <td>34.42</td>\n",
       "      <td>0</td>\n",
       "      <td>20</td>\n",
       "      <td>-3.4</td>\n",
       "      <td>14</td>\n",
       "      <td>NaN</td>\n",
       "      <td>NaN</td>\n",
       "      <td>NaN</td>\n",
       "      <td>NaN</td>\n",
       "    </tr>\n",
       "    <tr>\n",
       "      <th>3</th>\n",
       "      <td>1</td>\n",
       "      <td>4.534</td>\n",
       "      <td>47.93</td>\n",
       "      <td>0</td>\n",
       "      <td>10</td>\n",
       "      <td>1.1</td>\n",
       "      <td>17</td>\n",
       "      <td>NaN</td>\n",
       "      <td>NaN</td>\n",
       "      <td>NaN</td>\n",
       "      <td>NaN</td>\n",
       "    </tr>\n",
       "    <tr>\n",
       "      <th>4</th>\n",
       "      <td>1</td>\n",
       "      <td>8.641</td>\n",
       "      <td>35.26</td>\n",
       "      <td>0</td>\n",
       "      <td>30</td>\n",
       "      <td>3.8</td>\n",
       "      <td>32</td>\n",
       "      <td>NaN</td>\n",
       "      <td>NaN</td>\n",
       "      <td>NaN</td>\n",
       "      <td>NaN</td>\n",
       "    </tr>\n",
       "  </tbody>\n",
       "</table>\n",
       "</div>"
      ],
      "text/plain": [
       "   X0     X1     X2  X3  X4   X5   y  Unnamed: 7  Unnamed: 8  Unnamed: 9  \\\n",
       "0   1  5.768  62.55   0  28  2.6  28         NaN         NaN         NaN   \n",
       "1   1  8.949  66.91   0  27 -2.0  46         NaN         NaN         NaN   \n",
       "2   1  1.024  34.42   0  20 -3.4  14         NaN         NaN         NaN   \n",
       "3   1  4.534  47.93   0  10  1.1  17         NaN         NaN         NaN   \n",
       "4   1  8.641  35.26   0  30  3.8  32         NaN         NaN         NaN   \n",
       "\n",
       "   Unnamed: 10  \n",
       "0          NaN  \n",
       "1          NaN  \n",
       "2          NaN  \n",
       "3          NaN  \n",
       "4          NaN  "
      ]
     },
     "execution_count": 91,
     "metadata": {},
     "output_type": "execute_result"
    }
   ],
   "source": [
    "data.head()"
   ]
  },
  {
   "cell_type": "code",
   "execution_count": 92,
   "id": "3a67e77d-552c-4b59-ab95-b3a766fd4ec0",
   "metadata": {
    "id": "3a67e77d-552c-4b59-ab95-b3a766fd4ec0"
   },
   "outputs": [],
   "source": [
    "X = data.loc[1:40, ['X0', 'X1', 'X2', 'X3', 'X4', 'X5']].values\n",
    "y = data.loc[1:40, 'y'].values"
   ]
  },
  {
   "cell_type": "code",
   "execution_count": 93,
   "id": "a10b7307-5d4a-467a-af84-5af9f2025a41",
   "metadata": {
    "id": "a10b7307-5d4a-467a-af84-5af9f2025a41"
   },
   "outputs": [],
   "source": [
    "X_transpose = X.T"
   ]
  },
  {
   "cell_type": "code",
   "execution_count": 94,
   "id": "fe98ca00-3c18-4b50-ac01-6349e2eff7db",
   "metadata": {
    "id": "fe98ca00-3c18-4b50-ac01-6349e2eff7db"
   },
   "outputs": [],
   "source": [
    "X_transpose_X = np.dot(X_transpose, X)"
   ]
  },
  {
   "cell_type": "code",
   "execution_count": 95,
   "id": "7152f250-4fee-4634-b6a4-e49bb1380c07",
   "metadata": {
    "id": "7152f250-4fee-4634-b6a4-e49bb1380c07"
   },
   "outputs": [],
   "source": [
    "X_transpose_X_inv = np.linalg.inv(X_transpose_X)"
   ]
  },
  {
   "cell_type": "code",
   "execution_count": 96,
   "id": "36845ec5-1f6b-4ae0-b3e0-0a323d236636",
   "metadata": {
    "id": "36845ec5-1f6b-4ae0-b3e0-0a323d236636"
   },
   "outputs": [],
   "source": [
    "X_transpose_y = np.dot(X_transpose, y)"
   ]
  },
  {
   "cell_type": "code",
   "execution_count": 97,
   "id": "78c8226f-4b59-4916-b5b1-83d2a080dde5",
   "metadata": {
    "id": "78c8226f-4b59-4916-b5b1-83d2a080dde5"
   },
   "outputs": [],
   "source": [
    "result = np.dot(X_transpose_X_inv, X_transpose_y)\n"
   ]
  },
  {
   "cell_type": "code",
   "execution_count": 98,
   "id": "5948edfa-659b-4fed-9af2-718883dbb788",
   "metadata": {
    "id": "5948edfa-659b-4fed-9af2-718883dbb788",
    "outputId": "3665ce8a-2a9b-4b1e-f51e-bcbbf824e9ea"
   },
   "outputs": [
    {
     "name": "stdout",
     "output_type": "stream",
     "text": [
      "[-7.83196374  3.26458338  0.16631204 12.19246692  0.38231333 -1.58835343]\n"
     ]
    }
   ],
   "source": [
    "print(result)"
   ]
  },
  {
   "cell_type": "markdown",
   "id": "d6404a04-41c3-4085-85fb-b495201c4ece",
   "metadata": {
    "id": "d6404a04-41c3-4085-85fb-b495201c4ece"
   },
   "source": [
    "**QUESTION-2**"
   ]
  },
  {
   "cell_type": "markdown",
   "id": "c7d8425b-c592-4cee-bdd2-4fc125e40ce6",
   "metadata": {
    "id": "c7d8425b-c592-4cee-bdd2-4fc125e40ce6"
   },
   "source": [
    "***SSR, MSR and RMSE***"
   ]
  },
  {
   "cell_type": "code",
   "execution_count": 99,
   "id": "5f434445-672c-4dba-8081-4eaad8bbcd7f",
   "metadata": {
    "id": "5f434445-672c-4dba-8081-4eaad8bbcd7f"
   },
   "outputs": [],
   "source": [
    "X_train = data.loc[1:40, ['X0', 'X1', 'X2', 'X3', 'X4', 'X5']].values\n",
    "y_train = data.loc[1:40, 'y'].values\n",
    "X_test = data.loc[42:50, ['X0', 'X1', 'X2', 'X3', 'X4', 'X5']].values\n",
    "y_test = data.loc[42:50, 'y'].values"
   ]
  },
  {
   "cell_type": "code",
   "execution_count": 100,
   "id": "315bcea9-ad53-4a20-a2e4-174056d6417c",
   "metadata": {
    "id": "315bcea9-ad53-4a20-a2e4-174056d6417c"
   },
   "outputs": [],
   "source": [
    "X_transpose = X_train.T\n",
    "X_transpose_X = np.dot(X_transpose, X_train)\n",
    "X_transpose_X_inv = np.linalg.inv(X_transpose_X)\n",
    "X_transpose_y = np.dot(X_transpose, y_train)\n",
    "w = np.dot(X_transpose_X_inv, X_transpose_y)"
   ]
  },
  {
   "cell_type": "code",
   "execution_count": 101,
   "id": "273d5dc3-d6a7-4877-bc80-71d14cb4a51c",
   "metadata": {
    "id": "273d5dc3-d6a7-4877-bc80-71d14cb4a51c"
   },
   "outputs": [],
   "source": [
    "y_train_pred = np.dot(X_train, w)\n",
    "y_test_pred = np.dot(X_test, w)"
   ]
  },
  {
   "cell_type": "code",
   "execution_count": 102,
   "id": "2fd3cbfb-a4b0-48f2-b270-e76da9b96cf6",
   "metadata": {
    "id": "2fd3cbfb-a4b0-48f2-b270-e76da9b96cf6"
   },
   "outputs": [],
   "source": [
    "#calculating the train of SSR,MSR and RMSE\n",
    "SSR_train = np.sum((y_train - y_train_pred) ** 2)\n",
    "MSR_train = SSR_train / len(y_train)\n",
    "RMSE_train = np.sqrt(MSR_train)"
   ]
  },
  {
   "cell_type": "code",
   "execution_count": 103,
   "id": "a7645d70-2192-4b2e-9bc9-e984e2f896a5",
   "metadata": {
    "id": "a7645d70-2192-4b2e-9bc9-e984e2f896a5"
   },
   "outputs": [],
   "source": [
    "#calculating the test of SSR,MSR and RMSE\n",
    "SSR_test = np.sum((y_test - y_test_pred) ** 2)\n",
    "MSR_test = SSR_test / len(y_test)\n",
    "RMSE_test = np.sqrt(MSR_test)"
   ]
  },
  {
   "cell_type": "code",
   "execution_count": 104,
   "id": "d06e9031-1181-4423-b0c0-195c9318d716",
   "metadata": {
    "id": "d06e9031-1181-4423-b0c0-195c9318d716",
    "outputId": "c34e56a7-fc0b-411f-9707-d3e73e92493e"
   },
   "outputs": [
    {
     "name": "stdout",
     "output_type": "stream",
     "text": [
      "Train Error Metrics:\n",
      "SSR: 2.905634003203798\n",
      "MSR: 0.07264085008009495\n",
      "RMSE: 0.2695196654793393\n"
     ]
    }
   ],
   "source": [
    "#printing the train of SSR, MSR AND RMSE\n",
    "print(\"Train Error Metrics:\")\n",
    "print(f\"SSR: {SSR_train}\")\n",
    "print(f\"MSR: {MSR_train}\")\n",
    "print(f\"RMSE: {RMSE_train}\")"
   ]
  },
  {
   "cell_type": "code",
   "execution_count": 105,
   "id": "005c7f3f-eb3e-46d0-8921-87e0028299db",
   "metadata": {
    "id": "005c7f3f-eb3e-46d0-8921-87e0028299db",
    "outputId": "01cca39a-eeaf-4e1a-9c18-80ccb403dcd9"
   },
   "outputs": [
    {
     "name": "stdout",
     "output_type": "stream",
     "text": [
      "\n",
      "Test Error Metrics:\n",
      "SSR: 0.8699465589724562\n",
      "MSR: 0.10874331987155703\n",
      "RMSE: 0.32976252041667353\n"
     ]
    }
   ],
   "source": [
    "#printing the test of SSR, MSR AND RMSE\n",
    "print(\"\\nTest Error Metrics:\")\n",
    "print(f\"SSR: {SSR_test}\")\n",
    "print(f\"MSR: {MSR_test}\")\n",
    "print(f\"RMSE: {RMSE_test}\")"
   ]
  },
  {
   "cell_type": "markdown",
   "id": "3135468d-5e45-40e7-8513-7f98621833bc",
   "metadata": {
    "id": "3135468d-5e45-40e7-8513-7f98621833bc"
   },
   "source": [
    "**Regularized Newton**"
   ]
  },
  {
   "cell_type": "code",
   "execution_count": 106,
   "id": "79b6ba82-b2d4-4b88-a3b1-46f833e020c8",
   "metadata": {
    "id": "79b6ba82-b2d4-4b88-a3b1-46f833e020c8"
   },
   "outputs": [],
   "source": [
    "X_train = data.loc[1:40, ['X0', 'X1', 'X2', 'X3', 'X4', 'X5']].values\n",
    "y_train = data.loc[1:40, 'y'].values"
   ]
  },
  {
   "cell_type": "code",
   "execution_count": 107,
   "id": "f3a43c8b-c464-4530-9263-ff0ed5740ab8",
   "metadata": {
    "id": "f3a43c8b-c464-4530-9263-ff0ed5740ab8"
   },
   "outputs": [],
   "source": [
    "lambda_reg = 1"
   ]
  },
  {
   "cell_type": "code",
   "execution_count": 108,
   "id": "fb5ba8cb-ba1f-4558-b44c-1bf6f6ec8863",
   "metadata": {
    "id": "fb5ba8cb-ba1f-4558-b44c-1bf6f6ec8863"
   },
   "outputs": [],
   "source": [
    "#transpose\n",
    "X_transpose = X_train.T\n",
    "X_transpose_X = np.dot(X_transpose, X_train)\n",
    "I = np.eye(X_transpose_X.shape[0])\n",
    "X_transpose_X_reg = X_transpose_X + lambda_reg * I\n",
    "X_transpose_X_reg_inv = np.linalg.inv(X_transpose_X_reg)\n",
    "X_transpose_y = np.dot(X_transpose, y_train)\n",
    "w_reg = np.dot(X_transpose_X_reg_inv, X_transpose_y)"
   ]
  },
  {
   "cell_type": "code",
   "execution_count": 109,
   "id": "fe80f458-1c79-4010-900e-7a2a37e7b522",
   "metadata": {
    "id": "fe80f458-1c79-4010-900e-7a2a37e7b522",
    "outputId": "1ab222c4-0210-4fde-d5cd-200c2454f818"
   },
   "outputs": [
    {
     "name": "stdout",
     "output_type": "stream",
     "text": [
      "Regularized Weights (w):\n",
      "[-3.82677947  3.14344878  0.1119756   9.8579322   0.36969429 -1.50614557]\n"
     ]
    }
   ],
   "source": [
    "#printing the reg_weights\n",
    "print(\"Regularized Weights (w):\")\n",
    "print(w_reg)"
   ]
  },
  {
   "cell_type": "markdown",
   "id": "be573e2c-da95-4591-9317-4ebc440afad3",
   "metadata": {
    "id": "be573e2c-da95-4591-9317-4ebc440afad3"
   },
   "source": [
    "**Use lambda as 0.17**"
   ]
  },
  {
   "cell_type": "code",
   "execution_count": 110,
   "id": "8e0e6ecf-f429-448d-b330-b7d80f2e99a0",
   "metadata": {
    "id": "8e0e6ecf-f429-448d-b330-b7d80f2e99a0"
   },
   "outputs": [],
   "source": [
    "lambda_reg = 0.17"
   ]
  },
  {
   "cell_type": "code",
   "execution_count": 111,
   "id": "3df71796-b48c-497a-b38b-8358b86347b5",
   "metadata": {
    "id": "3df71796-b48c-497a-b38b-8358b86347b5"
   },
   "outputs": [],
   "source": [
    "#transpose\n",
    "X_transpose = X_train.T\n",
    "X_transpose_X = np.dot(X_transpose, X_train)\n",
    "I = np.eye(X_transpose_X.shape[0])  # Identity matrix of the same size as X'X\n",
    "X_transpose_X_reg = X_transpose_X + lambda_reg * I\n",
    "X_transpose_X_reg_inv = np.linalg.inv(X_transpose_X_reg)\n",
    "X_transpose_y = np.dot(X_transpose, y_train)\n",
    "w_reg = np.dot(X_transpose_X_reg_inv, X_transpose_y)"
   ]
  },
  {
   "cell_type": "code",
   "execution_count": 112,
   "id": "9876bd19-2db2-4373-9b49-e8f93bd5aaaa",
   "metadata": {
    "id": "9876bd19-2db2-4373-9b49-e8f93bd5aaaa",
    "outputId": "6818c2ea-77cd-4f6b-a80b-f2b51ce6506c"
   },
   "outputs": [
    {
     "name": "stdout",
     "output_type": "stream",
     "text": [
      "Regularized Weights (w):\n",
      "[-6.7562687   3.2347398   0.15118389 11.67719211  0.37881104 -1.56678791]\n"
     ]
    }
   ],
   "source": [
    "#printing the reg_weights\n",
    "print(\"Regularized Weights (w):\")\n",
    "print(w_reg)"
   ]
  },
  {
   "cell_type": "markdown",
   "id": "9bb365f8-f7ed-4feb-b479-a6d9576e9392",
   "metadata": {
    "id": "9bb365f8-f7ed-4feb-b479-a6d9576e9392"
   },
   "source": [
    "**R2values for both Newton and Regularized Newton methods**"
   ]
  },
  {
   "cell_type": "code",
   "execution_count": 113,
   "id": "0b256695-3760-406b-b3a5-4eef1d9e36c1",
   "metadata": {
    "id": "0b256695-3760-406b-b3a5-4eef1d9e36c1"
   },
   "outputs": [],
   "source": [
    "#  Extracting rows 2 to 41 for training data\n",
    "X_train = data.loc[1:40, ['X0', 'X1', 'X2', 'X3', 'X4', 'X5']].values\n",
    "y_train = data.loc[1:40, 'y'].values\n",
    "\n",
    "#  Extracting rows 43 to 51 for test data\n",
    "X_test = data.loc[42:50, ['X0', 'X1', 'X2', 'X3', 'X4', 'X5']].values\n",
    "y_test = data.loc[42:50, 'y'].values"
   ]
  },
  {
   "cell_type": "code",
   "execution_count": 114,
   "id": "5735dc10-919c-4601-9bd2-2c423341e821",
   "metadata": {
    "id": "5735dc10-919c-4601-9bd2-2c423341e821"
   },
   "outputs": [],
   "source": [
    "#regularized computation ((X'X + lambda*I)^-1)*X'y\n",
    "lambda_reg = 0.17"
   ]
  },
  {
   "cell_type": "code",
   "execution_count": 115,
   "id": "3c2dc893-fa62-44af-8209-4967a02517fc",
   "metadata": {
    "id": "3c2dc893-fa62-44af-8209-4967a02517fc"
   },
   "outputs": [],
   "source": [
    "# Training\n",
    "X_transpose = X_train.T\n",
    "X_transpose_X = np.dot(X_transpose, X_train)\n",
    "X_transpose_X_inv = np.linalg.inv(X_transpose_X)\n",
    "X_transpose_y = np.dot(X_transpose, y_train)\n",
    "w_newton = np.dot(X_transpose_X_inv, X_transpose_y)"
   ]
  },
  {
   "cell_type": "code",
   "execution_count": 116,
   "id": "4aee3b97-b0dd-45f3-a839-914a8c9eed72",
   "metadata": {
    "id": "4aee3b97-b0dd-45f3-a839-914a8c9eed72"
   },
   "outputs": [],
   "source": [
    "# Training\n",
    "I = np.eye(X_transpose_X.shape[0])\n",
    "X_transpose_X_reg = X_transpose_X + lambda_reg * I\n",
    "X_transpose_X_reg_inv = np.linalg.inv(X_transpose_X_reg)\n",
    "w_reg = np.dot(X_transpose_X_reg_inv, X_transpose_y)"
   ]
  },
  {
   "cell_type": "code",
   "execution_count": 117,
   "id": "ba4fb9ac-5134-484e-909b-3fa96380c31c",
   "metadata": {
    "id": "ba4fb9ac-5134-484e-909b-3fa96380c31c"
   },
   "outputs": [],
   "source": [
    "# Generate y values for both training and test data\n",
    "y_train_pred_newton = np.dot(X_train, w_newton)\n",
    "y_test_pred_newton = np.dot(X_test, w_newton)\n",
    "y_train_pred_reg = np.dot(X_train, w_reg)\n",
    "y_test_pred_reg = np.dot(X_test, w_reg)"
   ]
  },
  {
   "cell_type": "code",
   "execution_count": 118,
   "id": "443de90a-9d42-4f93-b7cf-d8416c429092",
   "metadata": {
    "id": "443de90a-9d42-4f93-b7cf-d8416c429092"
   },
   "outputs": [],
   "source": [
    "#R-squared for training data with newton method\n",
    "SSR_train_newton = np.sum((y_train - y_train_pred_newton) ** 2)\n",
    "SST_train = np.sum((y_train - np.mean(y_train)) ** 2)\n",
    "R2_train_newton = 1 - (SSR_train_newton / SST_train)"
   ]
  },
  {
   "cell_type": "code",
   "execution_count": 119,
   "id": "6c10277a-154a-47d6-b552-0359a8a4a749",
   "metadata": {
    "id": "6c10277a-154a-47d6-b552-0359a8a4a749"
   },
   "outputs": [],
   "source": [
    "#R-squared for test data with newton method\n",
    "SSR_test_newton = np.sum((y_test - y_test_pred_newton) ** 2)\n",
    "SST_test = np.sum((y_test - np.mean(y_test)) ** 2)\n",
    "R2_test_newton = 1 - (SSR_test_newton / SST_test)"
   ]
  },
  {
   "cell_type": "code",
   "execution_count": 120,
   "id": "4d20e090-0ad4-402a-bb59-e23c95dcd51e",
   "metadata": {
    "id": "4d20e090-0ad4-402a-bb59-e23c95dcd51e"
   },
   "outputs": [],
   "source": [
    "#R-squared for training data with Regularized Newton\n",
    "SSR_train_reg = np.sum((y_train - y_train_pred_reg) ** 2)\n",
    "R2_train_reg = 1 - (SSR_train_reg / SST_train)"
   ]
  },
  {
   "cell_type": "code",
   "execution_count": 121,
   "id": "146d3519-59d0-4d1e-bb4e-31516eedb201",
   "metadata": {
    "id": "146d3519-59d0-4d1e-bb4e-31516eedb201"
   },
   "outputs": [],
   "source": [
    "#R-squared for test data Regularized Newton\n",
    "SSR_test_reg = np.sum((y_test - y_test_pred_reg) ** 2)\n",
    "R2_test_reg = 1 - (SSR_test_reg / SST_test)"
   ]
  },
  {
   "cell_type": "code",
   "execution_count": 122,
   "id": "f42726b7-2144-4397-a4f6-94790b468768",
   "metadata": {
    "id": "f42726b7-2144-4397-a4f6-94790b468768",
    "outputId": "60fcd013-a7df-4ab7-968f-063190be20f5"
   },
   "outputs": [
    {
     "name": "stdout",
     "output_type": "stream",
     "text": [
      "R-squared values:\n",
      "Training R2 (Newton): 0.9992912223434068\n",
      "Test R2 (Newton): 0.99920398347572\n",
      "Training R2 (Regularized Newton): 0.9987347740766597\n",
      "Test R2 (Regularized Newton): 0.999221615499757\n"
     ]
    }
   ],
   "source": [
    "# Printing\n",
    "print(\"R-squared values:\")\n",
    "print(f\"Training R2 (Newton): {R2_train_newton}\")\n",
    "print(f\"Test R2 (Newton): {R2_test_newton}\")\n",
    "print(f\"Training R2 (Regularized Newton): {R2_train_reg}\")\n",
    "print(f\"Test R2 (Regularized Newton): {R2_test_reg}\")\n"
   ]
  },
  {
   "cell_type": "code",
   "execution_count": 124,
   "id": "wXYGrrCAfhhX",
   "metadata": {
    "colab": {
     "base_uri": "https://localhost:8080/",
     "height": 245
    },
    "id": "wXYGrrCAfhhX",
    "outputId": "a5fc608b-ff08-4c4b-d798-0f23d3c1a6da"
   },
   "outputs": [
    {
     "data": {
      "text/html": [
       "<div>\n",
       "<style scoped>\n",
       "    .dataframe tbody tr th:only-of-type {\n",
       "        vertical-align: middle;\n",
       "    }\n",
       "\n",
       "    .dataframe tbody tr th {\n",
       "        vertical-align: top;\n",
       "    }\n",
       "\n",
       "    .dataframe thead th {\n",
       "        text-align: right;\n",
       "    }\n",
       "</style>\n",
       "<table border=\"1\" class=\"dataframe\">\n",
       "  <thead>\n",
       "    <tr style=\"text-align: right;\">\n",
       "      <th></th>\n",
       "      <th>X0</th>\n",
       "      <th>X1</th>\n",
       "      <th>X2</th>\n",
       "      <th>X3</th>\n",
       "      <th>X4</th>\n",
       "      <th>X5</th>\n",
       "      <th>y</th>\n",
       "      <th>Unnamed: 7</th>\n",
       "      <th>Unnamed: 8</th>\n",
       "      <th>Unnamed: 9</th>\n",
       "      <th>Unnamed: 10</th>\n",
       "    </tr>\n",
       "  </thead>\n",
       "  <tbody>\n",
       "    <tr>\n",
       "      <th>0</th>\n",
       "      <td>1</td>\n",
       "      <td>5.768</td>\n",
       "      <td>62.55</td>\n",
       "      <td>0</td>\n",
       "      <td>28</td>\n",
       "      <td>2.6</td>\n",
       "      <td>28</td>\n",
       "      <td>NaN</td>\n",
       "      <td>NaN</td>\n",
       "      <td>NaN</td>\n",
       "      <td>NaN</td>\n",
       "    </tr>\n",
       "    <tr>\n",
       "      <th>1</th>\n",
       "      <td>1</td>\n",
       "      <td>8.949</td>\n",
       "      <td>66.91</td>\n",
       "      <td>0</td>\n",
       "      <td>27</td>\n",
       "      <td>-2.0</td>\n",
       "      <td>46</td>\n",
       "      <td>NaN</td>\n",
       "      <td>NaN</td>\n",
       "      <td>NaN</td>\n",
       "      <td>NaN</td>\n",
       "    </tr>\n",
       "    <tr>\n",
       "      <th>2</th>\n",
       "      <td>1</td>\n",
       "      <td>1.024</td>\n",
       "      <td>34.42</td>\n",
       "      <td>0</td>\n",
       "      <td>20</td>\n",
       "      <td>-3.4</td>\n",
       "      <td>14</td>\n",
       "      <td>NaN</td>\n",
       "      <td>NaN</td>\n",
       "      <td>NaN</td>\n",
       "      <td>NaN</td>\n",
       "    </tr>\n",
       "    <tr>\n",
       "      <th>3</th>\n",
       "      <td>1</td>\n",
       "      <td>4.534</td>\n",
       "      <td>47.93</td>\n",
       "      <td>0</td>\n",
       "      <td>10</td>\n",
       "      <td>1.1</td>\n",
       "      <td>17</td>\n",
       "      <td>NaN</td>\n",
       "      <td>NaN</td>\n",
       "      <td>NaN</td>\n",
       "      <td>NaN</td>\n",
       "    </tr>\n",
       "    <tr>\n",
       "      <th>4</th>\n",
       "      <td>1</td>\n",
       "      <td>8.641</td>\n",
       "      <td>35.26</td>\n",
       "      <td>0</td>\n",
       "      <td>30</td>\n",
       "      <td>3.8</td>\n",
       "      <td>32</td>\n",
       "      <td>NaN</td>\n",
       "      <td>NaN</td>\n",
       "      <td>NaN</td>\n",
       "      <td>NaN</td>\n",
       "    </tr>\n",
       "  </tbody>\n",
       "</table>\n",
       "</div>"
      ],
      "text/plain": [
       "   X0     X1     X2  X3  X4   X5   y  Unnamed: 7  Unnamed: 8  Unnamed: 9  \\\n",
       "0   1  5.768  62.55   0  28  2.6  28         NaN         NaN         NaN   \n",
       "1   1  8.949  66.91   0  27 -2.0  46         NaN         NaN         NaN   \n",
       "2   1  1.024  34.42   0  20 -3.4  14         NaN         NaN         NaN   \n",
       "3   1  4.534  47.93   0  10  1.1  17         NaN         NaN         NaN   \n",
       "4   1  8.641  35.26   0  30  3.8  32         NaN         NaN         NaN   \n",
       "\n",
       "   Unnamed: 10  \n",
       "0          NaN  \n",
       "1          NaN  \n",
       "2          NaN  \n",
       "3          NaN  \n",
       "4          NaN  "
      ]
     },
     "execution_count": 124,
     "metadata": {},
     "output_type": "execute_result"
    }
   ],
   "source": [
    "data.head()"
   ]
  },
  {
   "cell_type": "code",
   "execution_count": 125,
   "id": "taOCvhspgG-b",
   "metadata": {
    "colab": {
     "base_uri": "https://localhost:8080/",
     "height": 206
    },
    "id": "taOCvhspgG-b",
    "outputId": "6b7a9a2f-a714-4801-d7c9-5f03acb5f024"
   },
   "outputs": [
    {
     "data": {
      "text/html": [
       "<div>\n",
       "<style scoped>\n",
       "    .dataframe tbody tr th:only-of-type {\n",
       "        vertical-align: middle;\n",
       "    }\n",
       "\n",
       "    .dataframe tbody tr th {\n",
       "        vertical-align: top;\n",
       "    }\n",
       "\n",
       "    .dataframe thead th {\n",
       "        text-align: right;\n",
       "    }\n",
       "</style>\n",
       "<table border=\"1\" class=\"dataframe\">\n",
       "  <thead>\n",
       "    <tr style=\"text-align: right;\">\n",
       "      <th></th>\n",
       "      <th>X0</th>\n",
       "      <th>X1</th>\n",
       "      <th>X2</th>\n",
       "      <th>X3</th>\n",
       "      <th>X4</th>\n",
       "      <th>X5</th>\n",
       "      <th>y</th>\n",
       "    </tr>\n",
       "  </thead>\n",
       "  <tbody>\n",
       "    <tr>\n",
       "      <th>0</th>\n",
       "      <td>1</td>\n",
       "      <td>5.768</td>\n",
       "      <td>62.55</td>\n",
       "      <td>0</td>\n",
       "      <td>28</td>\n",
       "      <td>2.6</td>\n",
       "      <td>28</td>\n",
       "    </tr>\n",
       "    <tr>\n",
       "      <th>1</th>\n",
       "      <td>1</td>\n",
       "      <td>8.949</td>\n",
       "      <td>66.91</td>\n",
       "      <td>0</td>\n",
       "      <td>27</td>\n",
       "      <td>-2.0</td>\n",
       "      <td>46</td>\n",
       "    </tr>\n",
       "    <tr>\n",
       "      <th>2</th>\n",
       "      <td>1</td>\n",
       "      <td>1.024</td>\n",
       "      <td>34.42</td>\n",
       "      <td>0</td>\n",
       "      <td>20</td>\n",
       "      <td>-3.4</td>\n",
       "      <td>14</td>\n",
       "    </tr>\n",
       "    <tr>\n",
       "      <th>3</th>\n",
       "      <td>1</td>\n",
       "      <td>4.534</td>\n",
       "      <td>47.93</td>\n",
       "      <td>0</td>\n",
       "      <td>10</td>\n",
       "      <td>1.1</td>\n",
       "      <td>17</td>\n",
       "    </tr>\n",
       "    <tr>\n",
       "      <th>4</th>\n",
       "      <td>1</td>\n",
       "      <td>8.641</td>\n",
       "      <td>35.26</td>\n",
       "      <td>0</td>\n",
       "      <td>30</td>\n",
       "      <td>3.8</td>\n",
       "      <td>32</td>\n",
       "    </tr>\n",
       "  </tbody>\n",
       "</table>\n",
       "</div>"
      ],
      "text/plain": [
       "   X0     X1     X2  X3  X4   X5   y\n",
       "0   1  5.768  62.55   0  28  2.6  28\n",
       "1   1  8.949  66.91   0  27 -2.0  46\n",
       "2   1  1.024  34.42   0  20 -3.4  14\n",
       "3   1  4.534  47.93   0  10  1.1  17\n",
       "4   1  8.641  35.26   0  30  3.8  32"
      ]
     },
     "execution_count": 125,
     "metadata": {},
     "output_type": "execute_result"
    }
   ],
   "source": [
    "#droping the NaN column\n",
    "data = data.dropna(axis=1)\n",
    "data.head()"
   ]
  },
  {
   "cell_type": "code",
   "execution_count": null,
   "id": "JWl2a3w9gIyH",
   "metadata": {
    "colab": {
     "base_uri": "https://localhost:8080/"
    },
    "id": "JWl2a3w9gIyH",
    "outputId": "da5c45ba-3b99-4667-ef6e-671a708c3f05"
   },
   "outputs": [],
   "source": [
    "import pandas as pd\n",
    "import numpy as np\n",
    "from sklearn.linear_model import Ridge\n",
    "from sklearn.metrics import mean_squared_error, r2_score\n",
    "data = pd.read_csv('NumpyExerciseData.csv')\n",
    "data = data.dropna(axis=1) #droping the NaN value column\n",
    "\n",
    "def extract_features_targets(data, start_row, end_row):\n",
    "    subset_data = data.iloc[start_row:end_row]\n",
    "    X = subset_data.iloc[:, :-1].values\n",
    "    y = subset_data.iloc[:, -1].values\n",
    "    return X, y\n",
    "\n",
    "def ridge_regression(X_train, y_train, X_test, y_test, alpha):\n",
    "    model = Ridge(alpha=alpha)\n",
    "    model.fit(X_train, y_train)\n",
    "\n",
    "    #train and test\n",
    "    y_train_pred = model.predict(X_train)\n",
    "    y_test_pred = model.predict(X_test)\n",
    "\n",
    "\n",
    "    msr_train = mean_squared_error(y_train, y_train_pred)\n",
    "    msr_test = mean_squared_error(y_test, y_test_pred)\n",
    "    r2_train = r2_score(y_train, y_train_pred)\n",
    "    r2_test = r2_score(y_test, y_test_pred)\n",
    "\n",
    "    return msr_train, msr_test, r2_train, r2_test\n",
    "\n",
    "#printing\n",
    "def print_results(description, msr_train, msr_test, r2_train, r2_test):\n",
    "    print(f\"{description}:\")\n",
    "    print(f\"MSR on Train: {msr_train}\")\n",
    "    print(f\"MSR on Test: {msr_test}\")\n",
    "    print(f\"R-squared on Train: {r2_train}\")\n",
    "    print(f\"R-squared on Test: {r2_test}\")\n",
    "    print()\n",
    "\n",
    "#For Split 1\n",
    "X_train_1, y_train_1 = extract_features_targets(data, 1, 41)\n",
    "X_test_1, y_test_1 = extract_features_targets(data, 41, 51)\n",
    "msr_train_1, msr_test_1, r2_train_1, r2_test_1 = ridge_regression(X_train_1, y_train_1, X_test_1, y_test_1, 0.83)\n",
    "print_results(\"Split 1\", msr_train_1, msr_test_1, r2_train_1, r2_test_1)\n",
    "\n",
    "#For Split 2\n",
    "X_train_2, y_train_2 = extract_features_targets(data, 1, 26)\n",
    "X_test_2, y_test_2 = extract_features_targets(data, 26, 51)\n",
    "msr_train_2, msr_test_2, r2_train_2, r2_test_2 = ridge_regression(X_train_2, y_train_2, X_test_2, y_test_2, 0.17)\n",
    "print_results(\"Split 2\", msr_train_2, msr_test_2, r2_train_2, r2_test_2)\n",
    "\n",
    "#For Split 3\n",
    "msr_train_3, msr_test_3, r2_train_3, r2_test_3 = ridge_regression(X_train_2, y_train_2, X_test_2, y_test_2, 0.83)\n",
    "print_results(\"Split 3\", msr_train_3, msr_test_3, r2_train_3, r2_test_3)\n",
    "\n",
    "#For Split 4\n",
    "X_train_4, y_train_4 = extract_features_targets(data, 1, 11)\n",
    "X_test_4, y_test_4 = extract_features_targets(data, 11, 51)\n",
    "msr_train_4, msr_test_4, r2_train_4, r2_test_4 = ridge_regression(X_train_4, y_train_4, X_test_4, y_test_4, 0.17)\n",
    "print_results(\"Split 4\", msr_train_4, msr_test_4, r2_train_4, r2_test_4)\n",
    "\n",
    "#For Split 5\n",
    "msr_train_5, msr_test_5, r2_train_5, r2_test_5 = ridge_regression(X_train_4, y_train_4, X_test_4, y_test_4, 0.83)\n",
    "print_results(\"Split 5\", msr_train_5, msr_test_5, r2_train_5, r2_test_5)\n"
   ]
  },
  {
   "cell_type": "code",
   "execution_count": null,
   "id": "b7185649-f4fb-4a64-a852-25069e42bca7",
   "metadata": {},
   "outputs": [],
   "source": []
  },
  {
   "cell_type": "code",
   "execution_count": null,
   "id": "86385fcd-181b-4d85-8776-8feee20678fe",
   "metadata": {},
   "outputs": [],
   "source": []
  },
  {
   "cell_type": "code",
   "execution_count": null,
   "id": "885190c8-cde8-4f2c-8486-0092bbc87d1b",
   "metadata": {},
   "outputs": [],
   "source": []
  }
 ],
 "metadata": {
  "colab": {
   "provenance": []
  },
  "kernelspec": {
   "display_name": "Python 3 (ipykernel)",
   "language": "python",
   "name": "python3"
  },
  "language_info": {
   "codemirror_mode": {
    "name": "ipython",
    "version": 3
   },
   "file_extension": ".py",
   "mimetype": "text/x-python",
   "name": "python",
   "nbconvert_exporter": "python",
   "pygments_lexer": "ipython3",
   "version": "3.11.7"
  }
 },
 "nbformat": 4,
 "nbformat_minor": 5
}
